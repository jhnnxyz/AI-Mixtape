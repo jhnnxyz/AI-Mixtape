{
 "cells": [
  {
   "cell_type": "markdown",
   "id": "e86db6be-b9b1-42c4-9a3f-7a77bbab304a",
   "metadata": {},
   "source": [
    "# Matrix Calculus"
   ]
  },
  {
   "cell_type": "code",
   "execution_count": null,
   "id": "f54541f9-2b0a-4f40-bbc2-9d802bb06083",
   "metadata": {},
   "outputs": [],
   "source": []
  }
 ],
 "metadata": {
  "kernelspec": {
   "display_name": "DS-ENV",
   "language": "python",
   "name": "ds-env"
  },
  "language_info": {
   "codemirror_mode": {
    "name": "ipython",
    "version": 3
   },
   "file_extension": ".py",
   "mimetype": "text/x-python",
   "name": "python",
   "nbconvert_exporter": "python",
   "pygments_lexer": "ipython3",
   "version": "3.9.7"
  }
 },
 "nbformat": 4,
 "nbformat_minor": 5
}
