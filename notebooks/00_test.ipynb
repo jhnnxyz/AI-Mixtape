{
  "nbformat": 4,
  "nbformat_minor": 0,
  "metadata": {
    "colab": {
      "name": "00_test.ipynb",
      "provenance": [],
      "authorship_tag": "ABX9TyNH6tHoOlIYYI4n/bnbnxp3",
      "include_colab_link": true
    },
    "kernelspec": {
      "name": "python3",
      "display_name": "Python 3"
    },
    "language_info": {
      "name": "python"
    }
  },
  "cells": [
    {
      "cell_type": "markdown",
      "metadata": {
        "id": "view-in-github",
        "colab_type": "text"
      },
      "source": [
        "<a href=\"https://colab.research.google.com/github/jhnnxyz/AI-Mixtape/blob/main/notebooks/00_test.ipynb\" target=\"_parent\"><img src=\"https://colab.research.google.com/assets/colab-badge.svg\" alt=\"Open In Colab\"/></a>"
      ]
    },
    {
      "cell_type": "code",
      "execution_count": 1,
      "metadata": {
        "colab": {
          "base_uri": "https://localhost:8080/"
        },
        "id": "BS0ApFSpNhe7",
        "outputId": "6ee0d1ea-c41d-4595-c917-4ada772ef5fa"
      },
      "outputs": [
        {
          "output_type": "stream",
          "name": "stdout",
          "text": [
            "Cloning into 'AI-Mixtape'...\n",
            "remote: Enumerating objects: 76, done.\u001b[K\n",
            "remote: Counting objects: 100% (35/35), done.\u001b[K\n",
            "remote: Compressing objects: 100% (31/31), done.\u001b[K\n",
            "remote: Total 76 (delta 18), reused 9 (delta 4), pack-reused 41\u001b[K\n",
            "Unpacking objects: 100% (76/76), done.\n"
          ]
        }
      ],
      "source": [
        "!git clone https://github.com/jhnnxyz/AI-Mixtape.git\n",
        "%cd AI-Mixtape/\n",
        "%env PYTHONPATH=.:$PYTHONPATH"
      ]
    },
    {
      "cell_type": "code",
      "source": [
        ""
      ],
      "metadata": {
        "id": "pyM_BpntPobY"
      },
      "execution_count": null,
      "outputs": []
    }
  ]
}