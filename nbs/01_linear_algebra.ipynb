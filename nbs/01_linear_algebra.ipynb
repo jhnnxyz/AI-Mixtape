{
 "cells": [
  {
   "cell_type": "markdown",
   "id": "eb6fe4bc-5124-4669-9818-2ee54cc35788",
   "metadata": {
    "tags": []
   },
   "source": [
    "# Linear Algebra \n",
    "\n",
    "Linear algebra is the study of linear maps on finite-dimensional vector spaces.\n",
    "\n",
    "## Notations\n",
    "\n",
    "| Symbols          | Meaning          \n",
    "| ---------------- |:-------------------------------:|\n",
    "| a, b, c, α, β, γ | Scalars are lower case          | \n",
    "| **x, y, z**      | Vectors are bold lower case     | \n",
    "| **A, B, C**      | Matrices are bold upper case    |\n",
    "| $x^T, A^T$       | Transpose of a vector or matrix |\n",
    "| $A^{-1}$         | Inverse of a matrix             |\n"
   ]
  },
  {
   "cell_type": "markdown",
   "id": "a3f44722-9b3c-4c53-86b8-1846929bb516",
   "metadata": {},
   "source": [
    "### Scalar\n",
    "A \"scalar\" is just a single number, like 4 or -17.3 or π. Why are single numbers called \"scalars\"? It’s because single numbers \"scale,\" or stretch, vectors and matrices without changing their direction. Scalars will be indicated with Greek lowercase letters such as `λ, α, γ` or lower case letters such as `a, b, c`. \n",
    "\n",
    "### Vectors\n",
    "Abstractly, vectors are objects that can be added together and multiplied by scalars to produce another object of the same kind. \n",
    "\n",
    "For our purposes, vectors are points in some finite-dimensional space. You can represent data as vectors to represent numerical data. \n",
    "\n",
    "$$ \n",
    "x = \n",
    "\\begin{bmatrix} \n",
    "x_1\\\\\n",
    "x_2\\\\\n",
    "x_3\\\\\n",
    "\\vdots\\\\\n",
    "x_n \n",
    "\\end{bmatrix}\n",
    "$$"
   ]
  },
  {
   "cell_type": "markdown",
   "id": "1221becb-80e4-458d-9da7-a513cb2daae4",
   "metadata": {},
   "source": [
    "### Matrix\n",
    "A Matrix (plural Matrices) is a rectangular table of numbers or, more generally, a table consisting of abstract quantities that can be added and multiplied. Matrices are used to describe linear equa􏱙tions, keep track of the coefficients of linear transformations, and to record data that depend on two parameters. Matrices can be added, multiplied, and decomposed in various ways, making them a key concept in linear algebra and matrix theory.\n",
    "\n",
    "Let us consider, for example, a matrix **A**:\n",
    "\n",
    "$$\n",
    "  A_{m\\times n} =\n",
    "  \\left[ {\\begin{array}{cccc}\n",
    "    a_{11} & a_{12} & \\cdots & a_{1n}\\\\\n",
    "    a_{21} & a_{22} & \\cdots & a_{2n}\\\\\n",
    "    \\vdots & \\vdots & \\ddots & \\vdots\\\\\n",
    "    a_{m1} & a_{m2} & \\cdots & a_{mn}\\\\\n",
    "  \\end{array} } \\right]\n",
    "$$\n",
    "\n",
    "The horizontal lines in a matrix are called *Rows* and the vertical lines are called *Columns*. A matrix with *m* rows and *n* columns is called an *m*􏱙-by-*􏱙n* ma􏱙trix (written *m*×*n*) and *m* and *n* are called its *Dimensions*. The dimensions of a matrix are always given with the number of rows first, then the number of columns. The entry of a matrix **A** that lies in the *i*-􏱙th row and the *j*-􏱙th column is called the (*i, j*)􏱙-th entry of A. This is written as A_i,j or A[i, j]. As is indicated, the row is always noted first, then the column.\n",
    "\n",
    "A matrix, where one of the dimensions is equal to 1, is often called a *Vector*. The (1×*n*)-􏱙matrix (one row and *n* columns) is called a *Row* Vector, and the (*m*×1)􏱙-matrix (*m* rows and one column) is called a *Column* Vector."
   ]
  },
  {
   "cell_type": "markdown",
   "id": "daa20901-f89f-4f54-9b2f-09136f28c545",
   "metadata": {},
   "source": [
    "#### Matrix Addition and Scalar Multiplication\n",
    "\n",
    "Let A and B be two matrices with the same size, i.e. the same number of rows and of columns. The sum of A and B, written A+B is the matrix obtained by adding corresponding elements from A and B:\n",
    "\n",
    "$$\n",
    "     \\begin{bmatrix}\n",
    "         a_{11} & a_{12} & \\cdots & a_{1n}\\\\\n",
    "         a_{21} & a_{22} & \\cdots & a_{2n}\\\\ \n",
    "         \\vdots & \\vdots & \\ddots & \\vdots\\\\ \n",
    "         a_{m1} & a_{m2} & \\cdots & a_{mn} \n",
    "     \\end{bmatrix}\n",
    "     +\n",
    "     \\begin{bmatrix}\n",
    "         b_{11} & b_{12} & \\cdots & b_{1n}\\\\\n",
    "         b_{21} & b_{22} & \\cdots & b_{2n}\\\\ \n",
    "         \\vdots & \\vdots & \\ddots & \\vdots\\\\ \n",
    "         b_{m1} & b_{m2} & \\cdots & b_{mn} \n",
    "     \\end{bmatrix}\n",
    "      =\n",
    "     \\begin{bmatrix}\n",
    "         a_{11} + b_{11} & a_{12} + b_{12} & \\cdots & a_{1n} + b_{1n}\\\\\n",
    "         a_{21} + b_{21} & a_{22} + b_{22} & \\cdots & a_{2n} + b_{2n}\\\\ \n",
    "         \\vdots & \\vdots & \\ddots & \\vdots  \\\\ \n",
    "         a_{m1} + b_{m1} & a_{m2} + b_{m2} & \\cdots & a_{mn} + b_{mn} \n",
    "     \\end{bmatrix}\n",
    "$$"
   ]
  },
  {
   "cell_type": "markdown",
   "id": "ec90a9d8-da6a-4bbe-9d86-6d7cb539b48f",
   "metadata": {},
   "source": [
    "The product of a scalar *k* and a matrix **A**, written *k* **A** or **A** *k* is the matrix obtained by multiplying each element of **A** by *k*:\n",
    "\n",
    "$$\n",
    "  \\textit k\n",
    "  \\left[ {\\begin{array}{cccc}\n",
    "    a_{11} & a_{12} & \\cdots & a_{1n}\\\\\n",
    "    a_{21} & a_{22} & \\cdots & a_{2n}\\\\\n",
    "    \\vdots & \\vdots & \\ddots & \\vdots\\\\\n",
    "    a_{m1} & a_{m2} & \\cdots & a_{mn}\\\\\n",
    "  \\end{array} } \\right]\n",
    "  =\n",
    "  \\begin{bmatrix}\n",
    "    ka_{11} & ka_{12} & \\cdots & ka_{1n}\\\\\n",
    "    ka_{21} & ka_{22} & \\cdots & ka_{2n}\\\\ \n",
    "    \\vdots & \\vdots & \\ddots & \\vdots\\\\ \n",
    "    ka_{m1} & ka_{m2} & \\cdots & ka_{mn} \n",
    "   \\end{bmatrix}\n",
    "$$\n"
   ]
  },
  {
   "cell_type": "markdown",
   "id": "f7d1f48f-76cf-44f3-8f05-70461347f909",
   "metadata": {},
   "source": [
    "#### Matrix Multiplication\n",
    "\n",
    "Suppose A and B are two matrices such that the number of columns of A is equal to the number of rows of B, say A is an (m×p)􏱙matrix and B is a (p×n)􏱙 matrix. Then the product of A and B, written AB is the (m×n)􏱙matrix whose (i, j)􏱙entry is obtained by multiplying the elements of the i􏱙th row of A by the corresponding elements of the j􏱙th column of B and then adding:"
   ]
  },
  {
   "cell_type": "markdown",
   "id": "968b5212-53e1-4419-b1c1-ca52d0f13b85",
   "metadata": {},
   "source": [
    "$$\n",
    "     \\begin{bmatrix}\n",
    "         a_{11} & a_{12} & \\cdots & a_{1n}\\\\\n",
    "         a_{21} & a_{22} & \\cdots & a_{2n}\\\\ \n",
    "         \\vdots & \\vdots & \\ddots & \\vdots\\\\ \n",
    "         a_{m1} & a_{m2} & \\cdots & a_{mn} \n",
    "     \\end{bmatrix}\n",
    "     \\times\n",
    "     \\begin{bmatrix}\n",
    "         b_{11} & b_{12} & \\cdots & b_{1n}\\\\\n",
    "         b_{21} & b_{22} & \\cdots & b_{2n}\\\\ \n",
    "         \\vdots & \\vdots & \\ddots & \\vdots\\\\ \n",
    "         b_{m1} & b_{m2} & \\cdots & b_{mn} \n",
    "     \\end{bmatrix}\n",
    "      =\n",
    "     \\begin{bmatrix}\n",
    "         c_{11} & c_{12} & \\cdots & c_{1n}\\\\\n",
    "         c_{21} & c_{22} & \\cdots & c_{2n}\\\\ \n",
    "         \\vdots & \\vdots & \\ddots & \\vdots\\\\ \n",
    "         c_{m1} & c_{m2} & \\cdots & c_{mn} \n",
    "     \\end{bmatrix}\n",
    "$$\n",
    "\n",
    "$$ c_{ij}= a_{i1} b_{1j} + a_{i2} b_{2j} +\\cdots+ a_{in} + b_{nj} = \\sum_{k=1}^n a_{ik}b_{kj} $$ "
   ]
  },
  {
   "cell_type": "code",
   "execution_count": null,
   "id": "74a7254c-60e4-41d5-bff9-73b787d77527",
   "metadata": {},
   "outputs": [],
   "source": []
  }
 ],
 "metadata": {
  "kernelspec": {
   "display_name": "DS-ENV",
   "language": "python",
   "name": "ds-env"
  },
  "language_info": {
   "codemirror_mode": {
    "name": "ipython",
    "version": 3
   },
   "file_extension": ".py",
   "mimetype": "text/x-python",
   "name": "python",
   "nbconvert_exporter": "python",
   "pygments_lexer": "ipython3",
   "version": "3.9.7"
  }
 },
 "nbformat": 4,
 "nbformat_minor": 5
}
